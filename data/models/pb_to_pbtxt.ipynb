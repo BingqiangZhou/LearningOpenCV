{
  "nbformat": 4,
  "nbformat_minor": 0,
  "metadata": {
    "colab": {
      "name": "pb_to_pbtxt.ipynb",
      "provenance": [],
      "collapsed_sections": []
    },
    "kernelspec": {
      "name": "python3",
      "display_name": "Python 3"
    },
    "language_info": {
      "name": "python"
    }
  },
  "cells": [
    {
      "cell_type": "markdown",
      "metadata": {
        "id": "zecXUH9dfP2c"
      },
      "source": [
        "TensorFlow 1 Detection Model Zoo：\n",
        "\n",
        "https://github.com/tensorflow/models/blob/master/research/object_detection/g3doc/tf1_detection_zoo.md"
      ]
    },
    {
      "cell_type": "code",
      "metadata": {
        "colab": {
          "base_uri": "https://localhost:8080/"
        },
        "id": "VoS259a_fExb",
        "outputId": "0ba0b002-bd2e-4010-ed3a-1b933766577d"
      },
      "source": [
        "!wget http://download.tensorflow.org/models/object_detection/ssd_mobilenet_v2_coco_2018_03_29.tar.gz"
      ],
      "execution_count": 1,
      "outputs": [
        {
          "output_type": "stream",
          "name": "stdout",
          "text": [
            "--2021-09-03 07:25:39--  http://download.tensorflow.org/models/object_detection/ssd_mobilenet_v2_coco_2018_03_29.tar.gz\n",
            "Resolving download.tensorflow.org (download.tensorflow.org)... 173.194.193.128, 2607:f8b0:4001:c11::80\n",
            "Connecting to download.tensorflow.org (download.tensorflow.org)|173.194.193.128|:80... connected.\n",
            "HTTP request sent, awaiting response... 200 OK\n",
            "Length: 187925923 (179M) [application/x-tar]\n",
            "Saving to: ‘ssd_mobilenet_v2_coco_2018_03_29.tar.gz’\n",
            "\n",
            "ssd_mobilenet_v2_co 100%[===================>] 179.22M   234MB/s    in 0.8s    \n",
            "\n",
            "2021-09-03 07:25:39 (234 MB/s) - ‘ssd_mobilenet_v2_coco_2018_03_29.tar.gz’ saved [187925923/187925923]\n",
            "\n"
          ]
        }
      ]
    },
    {
      "cell_type": "code",
      "metadata": {
        "colab": {
          "base_uri": "https://localhost:8080/"
        },
        "id": "sdi3LQ74fTBG",
        "outputId": "32cb1c49-8917-4e2d-f155-7c8e13dfef89"
      },
      "source": [
        "!tar -xvf ./ssd_mobilenet_v2_coco_2018_03_29.tar.gz"
      ],
      "execution_count": 2,
      "outputs": [
        {
          "output_type": "stream",
          "name": "stdout",
          "text": [
            "ssd_mobilenet_v2_coco_2018_03_29/checkpoint\n",
            "ssd_mobilenet_v2_coco_2018_03_29/model.ckpt.meta\n",
            "ssd_mobilenet_v2_coco_2018_03_29/pipeline.config\n",
            "ssd_mobilenet_v2_coco_2018_03_29/saved_model/saved_model.pb\n",
            "ssd_mobilenet_v2_coco_2018_03_29/frozen_inference_graph.pb\n",
            "ssd_mobilenet_v2_coco_2018_03_29/saved_model/\n",
            "ssd_mobilenet_v2_coco_2018_03_29/saved_model/variables/\n",
            "ssd_mobilenet_v2_coco_2018_03_29/model.ckpt.index\n",
            "ssd_mobilenet_v2_coco_2018_03_29/\n",
            "ssd_mobilenet_v2_coco_2018_03_29/model.ckpt.data-00000-of-00001\n"
          ]
        }
      ]
    },
    {
      "cell_type": "code",
      "metadata": {
        "colab": {
          "base_uri": "https://localhost:8080/"
        },
        "id": "Ly-csJcjfZM9",
        "outputId": "7c859d58-bbb4-4517-8c40-0e2429394ab3"
      },
      "source": [
        "!git clone https://github.com/opencv/opencv.git"
      ],
      "execution_count": 3,
      "outputs": [
        {
          "output_type": "stream",
          "name": "stdout",
          "text": [
            "Cloning into 'opencv'...\n",
            "remote: Enumerating objects: 295217, done.\u001b[K\n",
            "remote: Total 295217 (delta 0), reused 0 (delta 0), pack-reused 295217\u001b[K\n",
            "Receiving objects: 100% (295217/295217), 485.54 MiB | 26.09 MiB/s, done.\n",
            "Resolving deltas: 100% (205218/205218), done.\n",
            "Checking out files: 100% (6880/6880), done.\n"
          ]
        }
      ]
    },
    {
      "cell_type": "code",
      "metadata": {
        "colab": {
          "base_uri": "https://localhost:8080/"
        },
        "id": "6hvLWmIzfs5j",
        "outputId": "74b2eb48-0114-40be-b680-37f5e94d6df0"
      },
      "source": [
        "!python /content/opencv/samples/dnn/tf_text_graph_ssd.py --input \"ssd_mobilenet_v2_coco_2018_03_29/frozen_inference_graph.pb\" --output \"graph.pbtxt\" --config \"ssd_mobilenet_v2_coco_2018_03_29/pipeline.config\""
      ],
      "execution_count": 4,
      "outputs": [
        {
          "output_type": "stream",
          "name": "stdout",
          "text": [
            "Scale: [0.200000-0.950000]\n",
            "Aspect ratios: [1.0, 2.0, 0.5, 3.0, 0.333299994469]\n",
            "Reduce boxes in the lowest layer: True\n",
            "Number of classes: 90\n",
            "Number of layers: 6\n",
            "box predictor: convolutional\n",
            "Input image size: 300x300\n"
          ]
        }
      ]
    },
    {
      "cell_type": "code",
      "metadata": {
        "id": "J9hzmujxgWkB"
      },
      "source": [
        ""
      ],
      "execution_count": null,
      "outputs": []
    }
  ]
}